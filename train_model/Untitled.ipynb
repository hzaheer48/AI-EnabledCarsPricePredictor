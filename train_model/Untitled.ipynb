{
 "cells": [
  {
   "cell_type": "code",
   "execution_count": 1,
   "id": "bac68050",
   "metadata": {},
   "outputs": [],
   "source": [
    "import numpy as np\n",
    "import pandas as pd\n",
    "from sklearn.linear_model import LinearRegression\n",
    "from sklearn.model_selection import train_test_split\n",
    "from sklearn.model_selection import GridSearchCV\n",
    "from sklearn.ensemble import GradientBoostingRegressor\n",
    "from sklearn import ensemble\n",
    "from joblib import Parallel, delayed\n",
    "import joblib\n",
    "import json"
   ]
  },
  {
   "cell_type": "code",
   "execution_count": 2,
   "id": "94f4f440",
   "metadata": {},
   "outputs": [],
   "source": [
    "def mapping_function(to_map):\n",
    "    d = {}\n",
    "    for elements in to_map:\n",
    "        if elements not in d:\n",
    "            d[elements] = len(d) + 1\n",
    "    return d"
   ]
  },
  {
   "cell_type": "code",
   "execution_count": 3,
   "id": "1b8056da",
   "metadata": {},
   "outputs": [],
   "source": [
    "def extract_companies(to_companies,parameter):\n",
    "    if(parameter==1):\n",
    "        companies = []\n",
    "        for elements in to_companies:\n",
    "            companies.append(elements.split()[0])\n",
    "        return companies\n",
    "    elif(parameter==2):\n",
    "        names = []\n",
    "        for elements in to_companies:\n",
    "            first_word, second_word = elements.split()[:2]\n",
    "            names.append(first_word+\" \"+second_word)\n",
    "        return names"
   ]
  },
  {
   "cell_type": "code",
   "execution_count": 4,
   "id": "c9a43861",
   "metadata": {},
   "outputs": [],
   "source": [
    "def write_to_json_file(data):\n",
    "    with open('data.json', 'w') as fp:\n",
    "        json.dump(data, fp)"
   ]
  },
  {
   "cell_type": "code",
   "execution_count": 5,
   "id": "81ea08e0",
   "metadata": {},
   "outputs": [],
   "source": [
    "data_set = pd.read_csv('pakwheels.csv')\n",
    "df = pd.DataFrame(data_set)\n",
    "df = df.dropna()\n",
    "df.drop(df[df['Price'] == 'Call for price'].index, inplace = True)\n",
    "x = df.drop(['Price'],axis=1)\n",
    "y = df['Price'].values"
   ]
  },
  {
   "cell_type": "code",
   "execution_count": 6,
   "id": "10c9f6c3",
   "metadata": {},
   "outputs": [],
   "source": [
    "record = {}\n",
    "mapped_dictionary = mapping_function(x['Engine Type'])\n",
    "x['Engine Type']=x['Engine Type'].map(mapped_dictionary)\n",
    "record['Engine Type'] = mapped_dictionary\n",
    "mapped_dictionary = mapping_function(x['Transmission'])\n",
    "x['Transmission']=x['Transmission'].map(mapped_dictionary)\n",
    "record['Transmission'] = mapped_dictionary\n",
    "mapped_dictionary = mapping_function(x['Registered City'])\n",
    "x['Registered City']=x['Registered City'].map(mapped_dictionary)\n",
    "record['Registered City'] = mapped_dictionary\n",
    "mapped_dictionary = mapping_function(x['Color'])\n",
    "x['Color']=x['Color'].map(mapped_dictionary)\n",
    "record['Color'] = mapped_dictionary\n",
    "mapped_dictionary = mapping_function(x['Assembly'])\n",
    "x['Assembly']=x['Assembly'].map(mapped_dictionary)\n",
    "record['Assembly'] = mapped_dictionary\n",
    "mapped_dictionary = mapping_function(x['Body Type'])\n",
    "x['Body Type']=x['Body Type'].map(mapped_dictionary)\n",
    "record['Body Type'] = mapped_dictionary\n",
    "x['Capacity'] = df[\"Capacity\"].str.replace(\"cc\",\"\")\n",
    "x['Capacity'] = x['Capacity'].astype(int)\n",
    "companies = extract_companies(x['Name'],1)\n",
    "x['Company'] = companies\n",
    "mapped_dictionary = mapping_function(x['Company'])\n",
    "x['Company']=x['Company'].map(mapped_dictionary)\n",
    "record['Company'] = mapped_dictionary\n",
    "names =  extract_companies(x['Name'],2)\n",
    "x['Names'] = names\n",
    "mapped_dictionary = mapping_function(x['Names'])\n",
    "x['Names']=x['Names'].map(mapped_dictionary)\n",
    "record['Names'] = mapped_dictionary\n",
    "write_to_json_file(record)\n",
    "x = x.drop(['Name'],axis=1)"
   ]
  },
  {
   "cell_type": "code",
   "execution_count": 7,
   "id": "9b554917",
   "metadata": {},
   "outputs": [],
   "source": [
    "x_train, x_test, y_train, y_test = train_test_split(x, y, test_size = 0.2, random_state = 42)\n",
    "x_train,x_test = x_train.to_numpy(),x_test.to_numpy()"
   ]
  },
  {
   "cell_type": "code",
   "execution_count": 8,
   "id": "91c96b12",
   "metadata": {},
   "outputs": [
    {
     "data": {
      "text/plain": [
       "['trained_model.pkl']"
      ]
     },
     "execution_count": 8,
     "metadata": {},
     "output_type": "execute_result"
    }
   ],
   "source": [
    "params = {\n",
    "    \"n_estimators\": 500,\n",
    "    \"max_depth\": 5,\n",
    "    \"min_samples_split\": 5,\n",
    "    \"learning_rate\": 0.01,\n",
    "    \"loss\": \"squared_error\",\n",
    "}\n",
    "reg = ensemble.GradientBoostingRegressor(**params)\n",
    "reg.fit(x_train, y_train)\n",
    "score=reg.score(x_test,y_test)\n",
    "joblib.dump(reg, 'trained_model.pkl')"
   ]
  },
  {
   "cell_type": "code",
   "execution_count": null,
   "id": "0757de72",
   "metadata": {},
   "outputs": [],
   "source": []
  }
 ],
 "metadata": {
  "kernelspec": {
   "display_name": "Python 3 (ipykernel)",
   "language": "python",
   "name": "python3"
  },
  "language_info": {
   "codemirror_mode": {
    "name": "ipython",
    "version": 3
   },
   "file_extension": ".py",
   "mimetype": "text/x-python",
   "name": "python",
   "nbconvert_exporter": "python",
   "pygments_lexer": "ipython3",
   "version": "3.9.12"
  }
 },
 "nbformat": 4,
 "nbformat_minor": 5
}
